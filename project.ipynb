{
 "cells": [
  {
   "cell_type": "code",
   "execution_count": 392,
   "metadata": {},
   "outputs": [],
   "source": [
    "import numpy as np\n",
    "import matplotlib.pyplot as plt\n",
    "from polar_codes.polar_code import PolarCode\n",
    "from polar_codes.channels.bpsk_awgn_channel import BpskAwgnChannel"
   ]
  },
  {
   "cell_type": "code",
   "execution_count": 393,
   "metadata": {},
   "outputs": [],
   "source": [
    "ARIKAN_KERNEL = np.array([[1,0],\n",
    "                         [1,1 ]], np.int8)"
   ]
  },
  {
   "cell_type": "code",
   "execution_count": 394,
   "metadata": {},
   "outputs": [],
   "source": [
    "# BIG_BOY\n",
    "kernel = np.array([\n",
    "    [1, 0, 0, 0],\n",
    "    [1, 1, 0, 0],\n",
    "    [0, 1, 1, 0],\n",
    "    [1, 1, 1, 1]])"
   ]
  },
  {
   "cell_type": "code",
   "execution_count": 395,
   "metadata": {},
   "outputs": [],
   "source": [
    "# GEN MATRIX FOR BIG_BOY\n",
    "def gen_mtrx(deg , k=kernel):    \n",
    "    \"\"\"Generator matrix of the polar code\"\"\"\n",
    "    result = kernel\n",
    "    for i in range(deg-1):\n",
    "        result = np.kron(result, k)\n",
    "    return result"
   ]
  },
  {
   "cell_type": "code",
   "execution_count": 396,
   "metadata": {},
   "outputs": [
    {
     "data": {
      "text/plain": [
       "(256, 256)"
      ]
     },
     "execution_count": 396,
     "metadata": {},
     "output_type": "execute_result"
    }
   ],
   "source": [
    "# ЛОВИ ЯДРО\n",
    "oder = 4\n",
    "G = gen_mtrx(oder)\n",
    "G.shape"
   ]
  },
  {
   "cell_type": "code",
   "execution_count": 404,
   "metadata": {},
   "outputs": [
    {
     "name": "stdout",
     "output_type": "stream",
     "text": [
      "0.63671875\n",
      "[  1   2   2   4   2   4   4   8   2   4   4   8   4   8   8  16   2   4\n",
      "   4   8   4   8   8  16   4   8   8  16   8  16  16  32   2   4   4   8\n",
      "   4   8   8  16   4   8   8  16   8  16  16  32   4   8   8  16   8  16\n",
      "  16  32   8  16  16  32  16  32  32  64   2   4   4   8   4   8   8  16\n",
      "   4   8   8  16   8  16  16  32   4   8   8  16   8  16  16  32   8  16\n",
      "  16  32  16  32  32  64   4   8   8  16   8  16  16  32   8  16  16  32\n",
      "  16  32  32  64   8  16  16  32  16  32  32  64  16  32  32  64  32  64\n",
      "  64 128   2   4   4   8   4   8   8  16   4   8   8  16   8  16  16  32\n",
      "   4   8   8  16   8  16  16  32   8  16  16  32  16  32  32  64   4   8\n",
      "   8  16   8  16  16  32   8  16  16  32  16  32  32  64   8  16  16  32\n",
      "  16  32  32  64  16  32  32  64  32  64  64 128   4   8   8  16   8  16\n",
      "  16  32   8  16  16  32  16  32  32  64   8  16  16  32  16  32  32  64\n",
      "  16  32  32  64  32  64  64 128   8  16  16  32  16  32  32  64  16  32\n",
      "  32  64  32  64  64 128  16  32  32  64  32  64  64 128  32  64  64 128\n",
      "  64 128 128 256]\n",
      "[1 1 1 1 1 1 1 1 1 1 1 1 1 1 1 1 1 1 1 1 1 1 1 1 1 1 1 1 1 1 1 0 1 1 1 1 1\n",
      " 1 1 1 1 1 1 1 1 1 1 0 1 1 1 1 1 1 1 0 1 1 1 0 1 0 0 0 1 1 1 1 1 1 1 1 1 1\n",
      " 1 1 1 1 1 0 1 1 1 1 1 1 1 0 1 1 1 0 1 0 0 0 1 1 1 1 1 1 1 0 1 1 1 0 1 0 0\n",
      " 0 1 1 1 0 1 0 0 0 1 0 0 0 0 0 0 0 1 1 1 1 1 1 1 1 1 1 1 1 1 1 1 0 1 1 1 1\n",
      " 1 1 1 0 1 1 1 0 1 0 0 0 1 1 1 1 1 1 1 0 1 1 1 0 1 0 0 0 1 1 1 0 1 0 0 0 1\n",
      " 0 0 0 0 0 0 0 1 1 1 1 1 1 1 0 1 1 1 0 1 0 0 0 1 1 1 0 1 0 0 0 1 0 0 0 0 0\n",
      " 0 0 1 1 1 0 1 0 0 0 1 0 0 0 0 0 0 0 1 0 0 0 0 0 0 0 0 0 0 0 0 0 0 0]\n",
      "[ 1  2  2  4  2  4  4  8  2  4  4  8  4  8  8 16  2  4  4  8  4  8  8 16\n",
      "  4  8  8 16  8 16 16  0  2  4  4  8  4  8  8 16  4  8  8 16  8 16 16  0\n",
      "  4  8  8 16  8 16 16  0  8 16 16  0 16  0  0  0  2  4  4  8  4  8  8 16\n",
      "  4  8  8 16  8 16 16  0  4  8  8 16  8 16 16  0  8 16 16  0 16  0  0  0\n",
      "  4  8  8 16  8 16 16  0  8 16 16  0 16  0  0  0  8 16 16  0 16  0  0  0\n",
      " 16  0  0  0  0  0  0  0  2  4  4  8  4  8  8 16  4  8  8 16  8 16 16  0\n",
      "  4  8  8 16  8 16 16  0  8 16 16  0 16  0  0  0  4  8  8 16  8 16 16  0\n",
      "  8 16 16  0 16  0  0  0  8 16 16  0 16  0  0  0 16  0  0  0  0  0  0  0\n",
      "  4  8  8 16  8 16 16  0  8 16 16  0 16  0  0  0  8 16 16  0 16  0  0  0\n",
      " 16  0  0  0  0  0  0  0  8 16 16  0 16  0  0  0 16  0  0  0  0  0  0  0\n",
      " 16  0  0  0  0  0  0  0  0  0  0  0  0  0  0  0]\n"
     ]
    }
   ],
   "source": [
    "interfer_num = np.zeros(G.shape[1],\"int\")\n",
    "for i, j in enumerate(G):\n",
    "    interfer_num[i] = np.sum(j)\n",
    "\n",
    "mask = np.ones_like(interfer_num)\n",
    "\n",
    "for i, j in enumerate(interfer_num):\n",
    "    if j > np.mean(interfer_num):\n",
    "        mask[i] = 0\n",
    "\n",
    "print(np.sum(mask)/mask.size)\n",
    "print(interfer_num)\n",
    "print(mask)\n",
    "print(interfer_num*mask)"
   ]
  },
  {
   "cell_type": "code",
   "execution_count": null,
   "metadata": {},
   "outputs": [],
   "source": []
  },
  {
   "cell_type": "code",
   "execution_count": 403,
   "metadata": {},
   "outputs": [
    {
     "data": {
      "text/plain": [
       "34.99993599999999"
      ]
     },
     "execution_count": 403,
     "metadata": {},
     "output_type": "execute_result"
    }
   ],
   "source": [
    "256*0.6367185-128"
   ]
  },
  {
   "cell_type": "code",
   "execution_count": 398,
   "metadata": {},
   "outputs": [],
   "source": [
    "def kernel(deg):    \n",
    "    \"\"\"Generator matrix of the polar code\"\"\"\n",
    "    result = ARIKAN_KERNEL\n",
    "    for i in range(deg-1):\n",
    "        result = np.kron(result, ARIKAN_KERNEL)\n",
    "    return result"
   ]
  },
  {
   "cell_type": "code",
   "execution_count": 399,
   "metadata": {},
   "outputs": [],
   "source": [
    "def encoding(data_en, G_matrix):\n",
    "    \"\"\"Encoding function\"\"\"\n",
    "    return np.dot(data_en, G_matrix) % 2"
   ]
  },
  {
   "cell_type": "code",
   "execution_count": 400,
   "metadata": {},
   "outputs": [],
   "source": [
    "def ber_calculation(sent_mes, received_mes):\n",
    "    num_errors = 0\n",
    "    for i in range(len(sent_mes)):\n",
    "        if sent_mes[i] != received_mes[i]:\n",
    "            num_errors += 1\n",
    "    return num_errors / len(sent_mes)"
   ]
  },
  {
   "cell_type": "code",
   "execution_count": 401,
   "metadata": {},
   "outputs": [],
   "source": [
    "def bpsk_modulation(signal):\n",
    "    modulated_signal = []\n",
    "    for i in signal:\n",
    "        modulated_signal.append(np.where(i > 0, 1, -1))\n",
    "    return modulated_signal\n",
    "\n",
    "def bpsk_demodulation(signal):\n",
    "    demodulated_signal = []\n",
    "    for i in signal:\n",
    "        demodulated_signal.append(np.where(i > 0, 1, 0))\n",
    "    return demodulated_signal"
   ]
  },
  {
   "cell_type": "code",
   "execution_count": 402,
   "metadata": {},
   "outputs": [],
   "source": [
    "def awgn_generator(snr, signal_len):\n",
    "    return np.random.randn(signal_len)*(1 / np.sqrt(2 * 10 ** (snr / 10)))"
   ]
  },
  {
   "cell_type": "code",
   "execution_count": null,
   "metadata": {},
   "outputs": [],
   "source": []
  }
 ],
 "metadata": {
  "kernelspec": {
   "display_name": "Python 3",
   "language": "python",
   "name": "python3"
  },
  "language_info": {
   "codemirror_mode": {
    "name": "ipython",
    "version": 3
   },
   "file_extension": ".py",
   "mimetype": "text/x-python",
   "name": "python",
   "nbconvert_exporter": "python",
   "pygments_lexer": "ipython3",
   "version": "3.11.4"
  },
  "orig_nbformat": 4
 },
 "nbformat": 4,
 "nbformat_minor": 2
}
