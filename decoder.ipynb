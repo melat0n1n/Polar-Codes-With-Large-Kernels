{
 "cells": [
  {
   "cell_type": "code",
   "execution_count": 105,
   "metadata": {},
   "outputs": [],
   "source": [
    "import numpy as np"
   ]
  },
  {
   "cell_type": "code",
   "execution_count": 106,
   "metadata": {},
   "outputs": [],
   "source": [
    "def u_mes_all_1(first_bit):\n",
    "    val_arr = [0, 1]\n",
    "    u_mes_array = []\n",
    "    for i in val_arr:\n",
    "        for j in val_arr:\n",
    "            for k in val_arr:\n",
    "                u_mes_array.append([i,j,k,first_bit])\n",
    "    return u_mes_array\n",
    "\n",
    "def u_mes_all_2(first_bit, second_bit):\n",
    "    val_arr = [0, 1]\n",
    "    u_mes_array = []\n",
    "    for i in val_arr:\n",
    "        for j in val_arr:\n",
    "            u_mes_array.append([i,j,second_bit,first_bit])\n",
    "    return u_mes_array\n",
    "\n",
    "def u_mes_all_3(first_bit, second_bit, third_bit):\n",
    "    val_arr = [0, 1]\n",
    "    u_mes_array = []\n",
    "    for i in val_arr:\n",
    "            u_mes_array.append([i,third_bit,second_bit, first_bit])\n",
    "    return u_mes_array"
   ]
  },
  {
   "cell_type": "code",
   "execution_count": 107,
   "metadata": {},
   "outputs": [],
   "source": [
    "def bit_from_llr(value):\n",
    "    if np.log(value) > 0:\n",
    "        bit = 0\n",
    "    else:\n",
    "        bit = 1\n",
    "    return bit"
   ]
  },
  {
   "cell_type": "code",
   "execution_count": 108,
   "metadata": {},
   "outputs": [],
   "source": [
    "def sc_decode_kernel(received_mess, gen_matrix):\n",
    "    decoded_message = []\n",
    "    \n",
    "    # find first bit\n",
    "    u_mes_array_num_1 = u_mes_all_1(0)\n",
    "    u_mes_array_denom_1 = u_mes_all_1(1)\n",
    "    x_mes_num = []\n",
    "    x_mes_denom = []\n",
    "    for i in range(len(u_mes_array_num_1)):\n",
    "        x_mes_num.append(np.dot(u_mes_array_num_1[i], gen_matrix)%2)\n",
    "        x_mes_denom.append(np.dot(u_mes_array_denom_1[i], gen_matrix)%2)\n",
    "    # find indexes of zero elements\n",
    "    llr_num = 0\n",
    "    llr_denom = 0\n",
    "    for i in range(len(x_mes_num)):\n",
    "        llr_num_item = 1\n",
    "        for j in range(len(x_mes_num[i])):\n",
    "            if x_mes_num[i][j] == 0:\n",
    "                llr_num_item *= np.exp(received_mess[j])\n",
    "        llr_num += llr_num_item\n",
    "    for i in range(len(x_mes_denom)):\n",
    "        llr_denom_item = 1\n",
    "        for j in range(len(x_mes_denom[i])):\n",
    "            if x_mes_denom[i][j] == 0:\n",
    "                llr_denom_item *= np.exp(received_mess[j])\n",
    "        llr_denom += llr_denom_item\n",
    "    decoded_message.append(bit_from_llr(llr_num/llr_denom))\n",
    "    print(f\"LLR 1 bit: {np.log(llr_num/llr_denom)}\")\n",
    "    print(f\"L vector: {received_mess}\")\n",
    "    # find second bit\n",
    "    u_mes_array_num_2 = u_mes_all_2(decoded_message[0], 0)\n",
    "    u_mes_array_denom_2 = u_mes_all_2(decoded_message[0], 1)\n",
    "    print(f\"U_MESSAGE bit 2 / num: {u_mes_array_num_2}\")\n",
    "    print(f\"U_MESSAGE bit 2 / denom: {u_mes_array_denom_2}\")\n",
    "    x_mes_num = []\n",
    "    x_mes_denom = []\n",
    "    for i in range(len(u_mes_array_num_2)):\n",
    "        x_mes_num.append(np.dot(u_mes_array_num_2[i], gen_matrix)%2)\n",
    "        x_mes_denom.append(np.dot(u_mes_array_denom_2[i], gen_matrix)%2)\n",
    "    # find indexes of zero elements\n",
    "    llr_num = 0\n",
    "    llr_denom = 0\n",
    "    for i in range(len(x_mes_num)):\n",
    "        llr_num_item = 1\n",
    "        for j in range(len(x_mes_num[i])):\n",
    "            if x_mes_num[i][j] == 0:\n",
    "                llr_num_item *= np.exp(received_mess[j])\n",
    "        llr_num += llr_num_item\n",
    "    for i in range(len(x_mes_denom)):\n",
    "        llr_denom_item = 1\n",
    "        for j in range(len(x_mes_denom[i])):\n",
    "            if x_mes_denom[i][j] == 0:\n",
    "                llr_denom_item *= np.exp(received_mess[j])\n",
    "        llr_denom += llr_denom_item\n",
    "    decoded_message.append(bit_from_llr(llr_num/llr_denom))\n",
    "    print(f\"LLR 2 bit: {np.log(llr_num/llr_denom)}\")\n",
    "    \n",
    "    # find third bit\n",
    "    u_mes_array_num_3 = u_mes_all_3(decoded_message[0], decoded_message[1], 0)\n",
    "    u_mes_array_denom_3 = u_mes_all_3(decoded_message[0], decoded_message[1], 1)\n",
    "    print(f\"U_MESSAGE bit 3 / num: {u_mes_array_num_3}\")\n",
    "    print(f\"U_MESSAGE bit 3 / denom: {u_mes_array_denom_3}\")\n",
    "    x_mes_num = []\n",
    "    x_mes_denom = []\n",
    "    for i in range(len(u_mes_array_num_3)):\n",
    "        x_mes_num.append(np.dot(u_mes_array_num_3[i], gen_matrix)%2)\n",
    "        x_mes_denom.append(np.dot(u_mes_array_denom_3[i], gen_matrix)%2)\n",
    "    # find indexes of zero elements\n",
    "    llr_num = 0\n",
    "    llr_denom = 0\n",
    "    for i in range(len(x_mes_num)):\n",
    "        llr_num_item = 1\n",
    "        for j in range(len(x_mes_num[i])):\n",
    "            if x_mes_num[i][j] == 0:\n",
    "                llr_num_item *= np.exp(received_mess[j])\n",
    "        llr_num += llr_num_item\n",
    "    for i in range(len(x_mes_denom)):\n",
    "        llr_denom_item = 1\n",
    "        for j in range(len(x_mes_denom[i])):\n",
    "            if x_mes_denom[i][j] == 0:\n",
    "                llr_denom_item *= np.exp(received_mess[j])\n",
    "        llr_denom += llr_denom_item\n",
    "    decoded_message.append(bit_from_llr(llr_num/llr_denom))\n",
    "    print(f\"LLR 3 bit: {np.log(llr_num/llr_denom)}\")\n",
    "    # find fourth bit\n",
    "    u_mes_array_num_4 = np.copy(decoded_message)\n",
    "    u_mes_array_num_4 = np.append(u_mes_array_num_4, 0)[::-1]\n",
    "    u_mes_array_denom_4 = np.copy(decoded_message)\n",
    "    u_mes_array_denom_4 = np.append(u_mes_array_denom_4, 1)[::-1]\n",
    "    print(f\"U_MESSAGE bit 4 / num: {u_mes_array_num_4}\")\n",
    "    print(f\"U_MESSAGE bit 4 / denom: {u_mes_array_denom_4}\")\n",
    "    x_mes_num = np.dot(u_mes_array_num_4, gen_matrix)%2\n",
    "    x_mes_denom = np.dot(u_mes_array_denom_4, gen_matrix)%2\n",
    "    # find indexes of zero elements\n",
    "    llr_num = 0\n",
    "    llr_denom = 0\n",
    "    for i in range(len(x_mes_num)):\n",
    "        if x_mes_num[i] == 0:\n",
    "            llr_num += np.exp(received_mess[i])\n",
    "        print(f\"num {llr_num}\")\n",
    "        if x_mes_denom[i] == 0:\n",
    "            llr_denom += np.exp(received_mess[i])\n",
    "        if np.sum(x_mes_denom) == 4:\n",
    "            llr_denom = 1\n",
    "        if np.sum(x_mes_num) == 4:\n",
    "            llr_num = 1\n",
    "        print(f\"denom {llr_denom}\")\n",
    "    decoded_message.append(bit_from_llr(llr_num/llr_denom))\n",
    "    print(f\"LLR 4 bit: {np.log(llr_num/llr_denom)}\")\n",
    "    \n",
    "    return decoded_message[::-1]"
   ]
  },
  {
   "cell_type": "code",
   "execution_count": 109,
   "metadata": {},
   "outputs": [],
   "source": [
    "kernel = np.array([\n",
    "    [1, 0, 0, 0],\n",
    "    [1, 1, 0, 0],\n",
    "    [0, 1, 1, 0],\n",
    "    [1, 1, 1, 1]])"
   ]
  },
  {
   "cell_type": "code",
   "execution_count": 110,
   "metadata": {},
   "outputs": [
    {
     "data": {
      "text/plain": [
       "array([1, 1, 1, 0])"
      ]
     },
     "execution_count": 110,
     "metadata": {},
     "output_type": "execute_result"
    }
   ],
   "source": [
    "x = ([1, 0, 1, 0] @ kernel) % 2\n",
    "x"
   ]
  },
  {
   "cell_type": "code",
   "execution_count": 111,
   "metadata": {},
   "outputs": [],
   "source": [
    "y = 1-x*2\n",
    "# y = x\n",
    "y=y*100"
   ]
  },
  {
   "cell_type": "code",
   "execution_count": 112,
   "metadata": {},
   "outputs": [
    {
     "name": "stdout",
     "output_type": "stream",
     "text": [
      "LLR 1 bit: 100.0\n",
      "L vector: [-100 -100 -100  100]\n",
      "U_MESSAGE bit 2 / num: [[0, 0, 0, 0], [0, 1, 0, 0], [1, 0, 0, 0], [1, 1, 0, 0]]\n",
      "U_MESSAGE bit 2 / denom: [[0, 0, 1, 0], [0, 1, 1, 0], [1, 0, 1, 0], [1, 1, 1, 0]]\n",
      "LLR 2 bit: -100.0\n",
      "U_MESSAGE bit 3 / num: [[0, 0, 1, 0], [1, 0, 1, 0]]\n",
      "U_MESSAGE bit 3 / denom: [[0, 1, 1, 0], [1, 1, 1, 0]]\n",
      "LLR 3 bit: 100.0\n",
      "U_MESSAGE bit 4 / num: [0 0 1 0]\n",
      "U_MESSAGE bit 4 / denom: [1 0 1 0]\n",
      "num 3.720075976020836e-44\n",
      "denom 0\n",
      "num 3.720075976020836e-44\n",
      "denom 0\n",
      "num 3.720075976020836e-44\n",
      "denom 0\n",
      "num 2.6881171418161356e+43\n",
      "denom 2.6881171418161356e+43\n",
      "LLR 4 bit: 0.0\n"
     ]
    },
    {
     "data": {
      "text/plain": [
       "[1, 0, 1, 0]"
      ]
     },
     "execution_count": 112,
     "metadata": {},
     "output_type": "execute_result"
    }
   ],
   "source": [
    "sc_decode_kernel(y, kernel)"
   ]
  },
  {
   "cell_type": "code",
   "execution_count": null,
   "metadata": {},
   "outputs": [],
   "source": []
  }
 ],
 "metadata": {
  "kernelspec": {
   "display_name": "Python 3",
   "language": "python",
   "name": "python3"
  },
  "language_info": {
   "codemirror_mode": {
    "name": "ipython",
    "version": 3
   },
   "file_extension": ".py",
   "mimetype": "text/x-python",
   "name": "python",
   "nbconvert_exporter": "python",
   "pygments_lexer": "ipython3",
   "version": "3.9.6"
  },
  "orig_nbformat": 4
 },
 "nbformat": 4,
 "nbformat_minor": 2
}
